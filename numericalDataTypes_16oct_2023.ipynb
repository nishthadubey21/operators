{
 "cells": [
  {
   "cell_type": "markdown",
   "id": "68724fa1",
   "metadata": {},
   "source": [
    "## Numerical Datatypes\n",
    "* Integers\n",
    "* float\n",
    "* complex"
   ]
  },
  {
   "cell_type": "code",
   "execution_count": 2,
   "id": "f8624351",
   "metadata": {},
   "outputs": [
    {
     "name": "stdout",
     "output_type": "stream",
     "text": [
      "123 45.56 (5+3j)\n",
      "<class 'int'> <class 'float'> <class 'complex'>\n"
     ]
    }
   ],
   "source": [
    "x,y,z=123,45.56,5+3j\n",
    "print(x,y,z)\n",
    "print(type(x),type(y),type(z))"
   ]
  },
  {
   "cell_type": "code",
   "execution_count": 3,
   "id": "c7715bca",
   "metadata": {},
   "outputs": [
    {
     "name": "stdout",
     "output_type": "stream",
     "text": [
      "5 4453166552\n",
      "10 4453166712\n"
     ]
    }
   ],
   "source": [
    "x=5\n",
    "print(x,id(x))\n",
    "x=10\n",
    "print(x,id(x))"
   ]
  },
  {
   "cell_type": "markdown",
   "id": "9399bad7",
   "metadata": {},
   "source": [
    "### int()"
   ]
  },
  {
   "cell_type": "code",
   "execution_count": 7,
   "id": "ec40b077",
   "metadata": {},
   "outputs": [
    {
     "name": "stdout",
     "output_type": "stream",
     "text": [
      "10\n",
      "5\n",
      "513\n",
      "5\n"
     ]
    }
   ],
   "source": [
    "print(int('10')) #default base is 10\n",
    "print(int('0101',2)) #binary base\n",
    "print(int('1001',8))\n",
    "print(int(5.6))\n",
    "#lowest base is 2 and highest base value is 36\n",
    "# takes binary and base value and returns an integer value"
   ]
  },
  {
   "cell_type": "code",
   "execution_count": 8,
   "id": "e6b89484",
   "metadata": {},
   "outputs": [
    {
     "data": {
      "text/plain": [
       "('0o11', '0x11')"
      ]
     },
     "execution_count": 8,
     "metadata": {},
     "output_type": "execute_result"
    }
   ],
   "source": [
    "oct(9), hex(17)"
   ]
  },
  {
   "cell_type": "markdown",
   "id": "717ab0eb",
   "metadata": {},
   "source": [
    "### Float()"
   ]
  },
  {
   "cell_type": "code",
   "execution_count": 9,
   "id": "f1ca771c",
   "metadata": {},
   "outputs": [
    {
     "data": {
      "text/plain": [
       "5.0"
      ]
     },
     "execution_count": 9,
     "metadata": {},
     "output_type": "execute_result"
    }
   ],
   "source": [
    "float(5) #float will have decimal value"
   ]
  },
  {
   "cell_type": "markdown",
   "id": "8bd3b66c",
   "metadata": {},
   "source": [
    "### Complex()"
   ]
  },
  {
   "cell_type": "code",
   "execution_count": 14,
   "id": "027e293c",
   "metadata": {},
   "outputs": [
    {
     "name": "stdout",
     "output_type": "stream",
     "text": [
      "(5+3j) <class 'complex'>\n",
      "(4+0j)\n",
      "5 3.0\n"
     ]
    }
   ],
   "source": [
    "x=5+3j\n",
    "y=4\n",
    "print(x, type(x))\n",
    "print(complex(y))\n",
    "print(int(x.real), x.imag)"
   ]
  },
  {
   "cell_type": "markdown",
   "id": "1337f23e",
   "metadata": {},
   "source": [
    "### abs()"
   ]
  },
  {
   "cell_type": "code",
   "execution_count": 19,
   "id": "c19b10c6",
   "metadata": {},
   "outputs": [
    {
     "name": "stdout",
     "output_type": "stream",
     "text": [
      "10.198039027185569\n",
      "2.3\n"
     ]
    }
   ],
   "source": [
    "x=-10+2j\n",
    "y=-2.3\n",
    "print(abs(x))\n",
    "print(abs(y))"
   ]
  },
  {
   "cell_type": "code",
   "execution_count": 24,
   "id": "4404c408",
   "metadata": {},
   "outputs": [
    {
     "name": "stdout",
     "output_type": "stream",
     "text": [
      "5\n",
      "6\n",
      "(2-3j)\n"
     ]
    }
   ],
   "source": [
    "import math\n",
    "import numpy\n",
    "from math import ceil, floor\n",
    "from numpy import conj\n",
    "\n",
    "print(floor(5.345)), print(ceil(5.0345)) #floor gives integer and ceil gives next integer value.\n",
    "print(conj(2+3j)) #gives conjugate of given complex number"
   ]
  },
  {
   "cell_type": "code",
   "execution_count": 21,
   "id": "11280b3f",
   "metadata": {},
   "outputs": [
    {
     "data": {
      "text/plain": [
       "320.0"
      ]
     },
     "execution_count": 21,
     "metadata": {},
     "output_type": "execute_result"
    }
   ],
   "source": [
    "3.2e+2\n"
   ]
  },
  {
   "cell_type": "markdown",
   "id": "62c54416",
   "metadata": {},
   "source": [
    "# Arithmetic Operators"
   ]
  },
  {
   "cell_type": "code",
   "execution_count": 25,
   "id": "c44f916a",
   "metadata": {},
   "outputs": [
    {
     "name": "stdout",
     "output_type": "stream",
     "text": [
      "19\n",
      "11\n",
      "60\n",
      "3.75\n",
      "50625\n",
      "3\n",
      "3\n"
     ]
    }
   ],
   "source": [
    "x,y=15,4\n",
    "print(x+y)\n",
    "print(x-y)\n",
    "print(x*y)\n",
    "print(x/y)\n",
    "print(x**y) #power\n",
    "print(x//y) #floor - divison\n",
    "print(x%y) #modulus\n"
   ]
  },
  {
   "cell_type": "code",
   "execution_count": 26,
   "id": "aed97de1",
   "metadata": {},
   "outputs": [
    {
     "name": "stdout",
     "output_type": "stream",
     "text": [
      "42\n"
     ]
    }
   ],
   "source": [
    "a,b,c,d=5,10,11,16\n",
    "print(a+b+c+d)"
   ]
  },
  {
   "cell_type": "code",
   "execution_count": 34,
   "id": "0037d660",
   "metadata": {},
   "outputs": [
    {
     "name": "stdout",
     "output_type": "stream",
     "text": [
      "78.53981633974483\n",
      "31.41592653589793\n",
      "392.69908169872417\n"
     ]
    }
   ],
   "source": [
    "import math\n",
    "from math import pi\n",
    "\n",
    "r,h=5,5\n",
    "print(pi*r*r) #area of circle\n",
    "print(2*pi*r) #paremeter\n",
    "print(pi*r**2*h) #volume of cylinder"
   ]
  },
  {
   "cell_type": "code",
   "execution_count": 35,
   "id": "3373744b",
   "metadata": {},
   "outputs": [
    {
     "name": "stdout",
     "output_type": "stream",
     "text": [
      "1237.002107350981\n"
     ]
    }
   ],
   "source": [
    "d,h=15,7\n",
    "print(pi*((d/2)**2)*h) #volume of cylinder"
   ]
  },
  {
   "cell_type": "markdown",
   "id": "e7a0c47b",
   "metadata": {},
   "source": [
    "### Comparission Operators\n",
    "#### Relationship Operators\n",
    "* < , > , <= , >= , !="
   ]
  },
  {
   "cell_type": "code",
   "execution_count": 38,
   "id": "5348fd1e",
   "metadata": {},
   "outputs": [
    {
     "name": "stdout",
     "output_type": "stream",
     "text": [
      "False True False True\n",
      "False\n",
      "True\n"
     ]
    }
   ],
   "source": [
    "x,y=10,20 \n",
    "print(x>y,x<y,x>=y, x<=y) #only gives true or false\n",
    "print(x == y)\n",
    "print(x!=y)"
   ]
  },
  {
   "cell_type": "code",
   "execution_count": 39,
   "id": "a456a197",
   "metadata": {},
   "outputs": [
    {
     "data": {
      "text/plain": [
       "(True, True)"
      ]
     },
     "execution_count": 39,
     "metadata": {},
     "output_type": "execute_result"
    }
   ],
   "source": [
    "a,b,c= [1,2,3],[1,2,3],[3,4]\n",
    "a==b, a!=c #this operator works for lists."
   ]
  },
  {
   "cell_type": "code",
   "execution_count": 41,
   "id": "773b8054",
   "metadata": {},
   "outputs": [
    {
     "data": {
      "text/plain": [
       "True"
      ]
     },
     "execution_count": 41,
     "metadata": {},
     "output_type": "execute_result"
    }
   ],
   "source": [
    "\"string\"==\"string\" #works for strings \n"
   ]
  },
  {
   "cell_type": "markdown",
   "id": "307eb9d3",
   "metadata": {},
   "source": [
    "#### Logical operator\n",
    "* and, or, not"
   ]
  },
  {
   "cell_type": "code",
   "execution_count": 42,
   "id": "90cc07d4",
   "metadata": {},
   "outputs": [
    {
     "name": "stdout",
     "output_type": "stream",
     "text": [
      "False True\n"
     ]
    }
   ],
   "source": [
    "x, y, z= True, False, True\n",
    "print(x and y, x and z)"
   ]
  },
  {
   "cell_type": "code",
   "execution_count": 43,
   "id": "2940793d",
   "metadata": {},
   "outputs": [
    {
     "name": "stdout",
     "output_type": "stream",
     "text": [
      "True True\n"
     ]
    }
   ],
   "source": [
    "print(x or y, x or z)"
   ]
  },
  {
   "cell_type": "code",
   "execution_count": 44,
   "id": "60a9a3ee",
   "metadata": {},
   "outputs": [
    {
     "name": "stdout",
     "output_type": "stream",
     "text": [
      "False\n"
     ]
    }
   ],
   "source": [
    "print(not x)"
   ]
  },
  {
   "cell_type": "markdown",
   "id": "3cf4a4ea",
   "metadata": {},
   "source": [
    "#### Identity Operators\n",
    " * is and is not operator"
   ]
  },
  {
   "cell_type": "code",
   "execution_count": 45,
   "id": "a6bbf496",
   "metadata": {},
   "outputs": [],
   "source": [
    "inta ,intb= 250, 250\n",
    "lista, listb=[1,2,3], [1,2,3]\n",
    "listc = lista\n",
    "stra, strb=\"string\", \"string\"\n",
    "strc = stra"
   ]
  },
  {
   "cell_type": "code",
   "execution_count": 46,
   "id": "fd2d7022",
   "metadata": {},
   "outputs": [
    {
     "data": {
      "text/plain": [
       "(True, False)"
      ]
     },
     "execution_count": 46,
     "metadata": {},
     "output_type": "execute_result"
    }
   ],
   "source": [
    "lista ==listb, lista is listb"
   ]
  },
  {
   "cell_type": "code",
   "execution_count": 47,
   "id": "70364db4",
   "metadata": {},
   "outputs": [
    {
     "data": {
      "text/plain": [
       "(4559354688, 4559367744, 4559354688)"
      ]
     },
     "execution_count": 47,
     "metadata": {},
     "output_type": "execute_result"
    }
   ],
   "source": [
    "id(lista), id(listb), id(listc) "
   ]
  },
  {
   "cell_type": "code",
   "execution_count": 49,
   "id": "dd622ddc",
   "metadata": {},
   "outputs": [
    {
     "data": {
      "text/plain": [
       "True"
      ]
     },
     "execution_count": 49,
     "metadata": {},
     "output_type": "execute_result"
    }
   ],
   "source": [
    "lista is not listb"
   ]
  },
  {
   "cell_type": "code",
   "execution_count": 50,
   "id": "4f676791",
   "metadata": {},
   "outputs": [
    {
     "data": {
      "text/plain": [
       "True"
      ]
     },
     "execution_count": 50,
     "metadata": {},
     "output_type": "execute_result"
    }
   ],
   "source": [
    "inta is intb #for integer it gives same memory location so is operator for same assigned int to diff var \n",
    "#will always be true"
   ]
  },
  {
   "cell_type": "markdown",
   "id": "b1e49dea",
   "metadata": {},
   "source": [
    "#### Membership operators\n",
    "* in, not in"
   ]
  },
  {
   "cell_type": "code",
   "execution_count": 51,
   "id": "dc9d287a",
   "metadata": {},
   "outputs": [
    {
     "data": {
      "text/plain": [
       "(False, True)"
      ]
     },
     "execution_count": 51,
     "metadata": {},
     "output_type": "execute_result"
    }
   ],
   "source": [
    "x, y= [12,13,14], \"string\"\n",
    "11 in x, \"z\" not in y"
   ]
  },
  {
   "cell_type": "markdown",
   "id": "fb0224b6",
   "metadata": {},
   "source": [
    "### Bitwise Operators\n",
    "* & , | , >> , << , ~ , ^"
   ]
  },
  {
   "cell_type": "code",
   "execution_count": 8,
   "id": "ad630049",
   "metadata": {},
   "outputs": [
    {
     "name": "stdout",
     "output_type": "stream",
     "text": [
      "1\n",
      "7\n",
      "2\n",
      "10\n",
      "4\n",
      "-6\n",
      "5\n"
     ]
    }
   ],
   "source": [
    "#bitwise operators are used to perform bitwise operations on integers. integers get converted into binary form and\n",
    "#get operated bit by bit. result gives in integer form.\n",
    "\n",
    "print(5 & 3) #5 , 3 are converted to binary form and then and operator is applied bitwise\n",
    "print(5 | 3) #similarly, or operator is applied\n",
    "print(5>>1) #5 in converted to binary then shifted to right side by step \"1\"\n",
    "print(5<<1) #similary shifted to left side by step 1\n",
    "print(5^1) #5,3 converted to binary then if both bits have similar value like 1 or 0 then it gives 0 otherwise 1\n",
    "print(~5) # it gives -(x+1) value\n",
    "print(~(-6)) #similer to previous "
   ]
  },
  {
   "cell_type": "markdown",
   "id": "83e19ce3",
   "metadata": {},
   "source": [
    "### Assignment Operators\n",
    "* = , +=, -= , *= , /= , **= , //= , %= , &= , |= , >>= , <<= , ^= "
   ]
  },
  {
   "cell_type": "code",
   "execution_count": 21,
   "id": "7d9a9fd0",
   "metadata": {},
   "outputs": [
    {
     "name": "stdout",
     "output_type": "stream",
     "text": [
      "12\n",
      "10\n",
      "20\n",
      "10.0\n",
      "100.0\n",
      "50.0\n",
      "2.0\n",
      "2\n",
      "2\n",
      "0\n",
      "0\n",
      "2\n"
     ]
    }
   ],
   "source": [
    "#assignment operator are used to assign the value to the left operands\n",
    "# a = 5 \n",
    "# a = a+3 or a+=3 is assignment operator (example)\n",
    "a=10\n",
    "a+=2 # addition assignment operator, adds given number to a and again gives a.\n",
    "print(a)\n",
    "a-=2 # subtracts that given value from a.\n",
    "print(a)\n",
    "a*=2 # multiplies the value by 2\n",
    "print(a)\n",
    "a/=2 # divides the value by 2\n",
    "print(a)\n",
    "a**=2 # gives the power of a by 2 \n",
    "print(a)\n",
    "a//=2 # floor division by 2\n",
    "print(a)\n",
    "a%=3 # modulus of a when divided by 2\n",
    "print(a)\n",
    "a = 10\n",
    "a&=3 # bitwise and operation on a and 3\n",
    "print(a)\n",
    "a|=2 # bitwise or operation on a and 2\n",
    "print(a)\n",
    "a>>=2 # bitwise right shift on a with step size of 2\n",
    "print(a)\n",
    "a<<=2 # bitwise left shift on a with step size of 2\n",
    "print(a)\n",
    "a^=2 # bitwise xor operation\n",
    "print(a)\n"
   ]
  },
  {
   "cell_type": "code",
   "execution_count": null,
   "id": "e1b2c00d",
   "metadata": {},
   "outputs": [],
   "source": []
  }
 ],
 "metadata": {
  "kernelspec": {
   "display_name": "Python 3 (ipykernel)",
   "language": "python",
   "name": "python3"
  },
  "language_info": {
   "codemirror_mode": {
    "name": "ipython",
    "version": 3
   },
   "file_extension": ".py",
   "mimetype": "text/x-python",
   "name": "python",
   "nbconvert_exporter": "python",
   "pygments_lexer": "ipython3",
   "version": "3.11.5"
  }
 },
 "nbformat": 4,
 "nbformat_minor": 5
}
